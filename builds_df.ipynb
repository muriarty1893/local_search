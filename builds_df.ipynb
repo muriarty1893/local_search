{
 "cells": [
  {
   "cell_type": "code",
   "execution_count": 77,
   "id": "5f0f6dbe",
   "metadata": {},
   "outputs": [],
   "source": [
    "import pandas as pd\n",
    "from elasticsearch import Elasticsearch\n",
    "from elasticsearch.helpers import bulk\n",
    "import "
   ]
  },
  {
   "cell_type": "code",
   "execution_count": 78,
   "id": "aaec4467",
   "metadata": {},
   "outputs": [
    {
     "name": "stdout",
     "output_type": "stream",
     "text": [
      "True\n"
     ]
    }
   ],
   "source": [
    "es=Elasticsearch([{\"host\":\"localhost\",\"port\":9200}],http_auth=(\"elastic\",\"suVlWmYRKKFk6RYs_TrU\"))\n",
    "print(es.ping())"
   ]
  },
  {
   "cell_type": "code",
   "execution_count": 79,
   "id": "83ebf017",
   "metadata": {},
   "outputs": [],
   "source": [
    "df=pd.read_csv('buildler.csv')"
   ]
  },
  {
   "cell_type": "code",
   "execution_count": 80,
   "id": "92c8cd57",
   "metadata": {},
   "outputs": [],
   "source": [
    "df.dropna(inplace=True)"
   ]
  },
  {
   "cell_type": "code",
   "execution_count": 81,
   "id": "5b47526a",
   "metadata": {},
   "outputs": [],
   "source": [
    "path_of_exile_builds_index = {\n",
    "  \"settings\": {\n",
    "    \"index\": {\n",
    "      \"analysis\": {\n",
    "        \"analyzer\": {\n",
    "          \"custom_analyzer\": {\n",
    "            \"type\": \"custom\",\n",
    "            \"tokenizer\": \"standard\",\n",
    "            \"filter\": [\n",
    "              \"lowercase\",\n",
    "              \"asciifolding\",\n",
    "              \"custom_edge_ngram\"\n",
    "            ]\n",
    "          }\n",
    "        },\n",
    "        \"filter\": {\n",
    "          \"custom_edge_ngram\": {\n",
    "            \"type\": \"edge_ngram\",\n",
    "            \"min_gram\": 2,\n",
    "            \"max_gram\": 10\n",
    "          }\n",
    "        }\n",
    "      }\n",
    "    }\n",
    "  },\n",
    "  \"mappings\": {\n",
    "    \"properties\": {\n",
    "      \"Build\": {\n",
    "        \"type\": \"text\",\n",
    "        \"analyzer\": \"custom_analyzer\"\n",
    "      },\n",
    "      \"Ascendancy\": {\n",
    "        \"type\": \"keyword\"\n",
    "      },\n",
    "      \"Açıklama\": {\n",
    "        \"type\": \"text\",\n",
    "        \"analyzer\": \"custom_analyzer\"\n",
    "      }\n",
    "    }\n",
    "  }\n",
    "}"
   ]
  },
  {
   "cell_type": "code",
   "execution_count": 82,
   "id": "260496b6",
   "metadata": {},
   "outputs": [],
   "source": [
    "def dataframe_to_es(df, es_index):\n",
    "    for df_idx, line in df.iterrows():\n",
    "        yield {\n",
    "            \"_index\": es_index,\n",
    "            \"_id\": df_idx,  # Satır numarasını Elasticsearch belgesi ID'si olarak kullanıyoruz\n",
    "            \"_source\": {\n",
    "                \"Build\": line['Build'],\n",
    "                \"Ascendancy\": line['Ascendancy'],\n",
    "                \"Açıklama\": line['Açıklama']\n",
    "            }\n",
    "        }"
   ]
  },
  {
   "cell_type": "code",
   "execution_count": 83,
   "id": "45f4f065",
   "metadata": {},
   "outputs": [],
   "source": [
    "try:\n",
    "    es.indices.delete(\"path_of_exile_builds_index\")\n",
    "except:\n",
    "    print(\"No index\")\n"
   ]
  },
  {
   "cell_type": "code",
   "execution_count": 84,
   "id": "f28f88b1",
   "metadata": {},
   "outputs": [
    {
     "data": {
      "text/plain": [
       "(7, [])"
      ]
     },
     "execution_count": 84,
     "metadata": {},
     "output_type": "execute_result"
    }
   ],
   "source": [
    "helpers.bulk(es, dataframe_to_es(df, \"path_of_exile_builds_index\"), raise_on_error=False)"
   ]
  },
  {
   "cell_type": "code",
   "execution_count": 89,
   "id": "ccd7ad5c",
   "metadata": {},
   "outputs": [],
   "source": [
    "response = es.search(index='path_of_exile_builds', body={\n",
    "  \"query\": {\n",
    "    \"match\": {\n",
    "      \"Build\": \"rea\"\n",
    "    }\n",
    "  }\n",
    "})\n",
    "\n",
    "for hit in response['hits']['hits']:\n",
    "    print(hit['_source'])"
   ]
  },
  {
   "cell_type": "code",
   "execution_count": 90,
   "id": "b81150d6",
   "metadata": {},
   "outputs": [
    {
     "ename": "NameError",
     "evalue": "name 'connection' is not defined",
     "output_type": "error",
     "traceback": [
      "\u001b[1;31m---------------------------------------------------------------------------\u001b[0m",
      "\u001b[1;31mNameError\u001b[0m                                 Traceback (most recent call last)",
      "Input \u001b[1;32mIn [90]\u001b[0m, in \u001b[0;36m<cell line: 1>\u001b[1;34m()\u001b[0m\n\u001b[1;32m----> 1\u001b[0m \u001b[43mconnection\u001b[49m\u001b[38;5;241m.\u001b[39minfo()\n",
      "\u001b[1;31mNameError\u001b[0m: name 'connection' is not defined"
     ]
    }
   ],
   "source": [
    "connection.info()"
   ]
  },
  {
   "cell_type": "code",
   "execution_count": null,
   "id": "0f557c95",
   "metadata": {},
   "outputs": [],
   "source": []
  }
 ],
 "metadata": {
  "kernelspec": {
   "display_name": "Python 3 (ipykernel)",
   "language": "python",
   "name": "python3"
  },
  "language_info": {
   "codemirror_mode": {
    "name": "ipython",
    "version": 3
   },
   "file_extension": ".py",
   "mimetype": "text/x-python",
   "name": "python",
   "nbconvert_exporter": "python",
   "pygments_lexer": "ipython3",
   "version": "3.9.12"
  }
 },
 "nbformat": 4,
 "nbformat_minor": 5
}
